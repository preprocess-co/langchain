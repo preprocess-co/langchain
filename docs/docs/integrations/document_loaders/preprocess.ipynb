{
  "cells": [
    {
      "cell_type": "markdown",
      "metadata": {
        "editable": true,
        "slideshow": {
          "slide_type": ""
        }
      },
      "source": [
        "# Preprocess\n",
        "[Preprocess](https://preprocess.co) is an API service that splits any kind of document into optimal chunks of text for use in language model tasks.\n",
        "\n",
        "Given documents in input `Preprocess` splits them into chunks of text that respect the layout and semantics of the original document.\n",
        "We split the content by taking into account sections, paragraphs, lists, images, data tables, text tables, and slides, and following the content semantics for long texts.\n",
        "\n",
        "Preprocess supports:\n",
        "- PDFs\n",
        "- Microsoft Office documents (Word, PowerPoint, Excel)\n",
        "- OpenOffice documents (ods, odt, odp)\n",
        "- HTML content (web pages, articles, emails)\n",
        "- plain text.\n",
        "\n",
        "`PreprocessLoader` interact the `Preprocess API library` to provide document conversion and chunking or to load already chunked files inside LangChain."
      ]
    },
    {
      "cell_type": "markdown",
      "metadata": {
        "editable": true,
        "slideshow": {
          "slide_type": ""
        }
      },
      "source": [
        "## Requirements\n",
        "Install the `Python Preprocess library` if it is not already present:"
      ]
    },
    {
      "cell_type": "code",
      "execution_count": null,
      "metadata": {
        "editable": true,
        "slideshow": {
          "slide_type": ""
        },
        "trusted": true
      },
      "outputs": [],
      "source": [
        "# Install Preprocess Python SDK package\n",
        "pip install pypreprocess"
      ]
    },
    {
      "cell_type": "markdown",
      "metadata": {
        "editable": true,
        "slideshow": {
          "slide_type": ""
        }
      },
      "source": [
        "## Usage\n",
        "\n",
        "To use Preprocess loader, you need to pass the `Preprocess API Key`. \n",
        "When initializing `PreprocessLoader`, you should pass your `API Key`, if you don't have it yet, please ask for one at [support@preprocess.co](mailto:support@preprocess.co). Without an `API Key`, the loader will raise an error.\n",
        "\n",
        "To chunk a file pass a valid filepath and the loader will start converting and chunking it.\n",
        "`Preprocess` will chunk your files by applying an internal splitter. For this reason, you shouldn't apply `TextSplitter`s to `Document`s returned by the `load()` method.\n"
      ]
    },
    {
      "cell_type": "code",
      "execution_count": null,
      "metadata": {
        "editable": true,
        "slideshow": {
          "slide_type": ""
        },
        "trusted": true
      },
      "outputs": [],
      "source": [
        "from langchain.document_loaders import PreprocessLeader"
      ]
    },
    {
      "cell_type": "code",
      "execution_count": null,
      "metadata": {
        "editable": true,
        "slideshow": {
          "slide_type": ""
        },
        "trusted": true
      },
      "outputs": [],
      "source": [
        "loader = PreprocessLeader(\"example_data/layout-parser-paper.pdf\", api_key=\"PREPROCESS_API_KEY\")"
      ]
    },
    {
      "cell_type": "code",
      "execution_count": null,
      "metadata": {
        "editable": true,
        "slideshow": {
          "slide_type": ""
        },
        "trusted": true
      },
      "outputs": [],
      "source": [
        "data = loader.load()"
      ]
    },
    {
      "cell_type": "markdown",
      "metadata": {
        "editable": true,
        "slideshow": {
          "slide_type": ""
        }
      },
      "source": [
        "\n",
        "If you want to return only the extracted text and handle it with custom splitters set `return_whole_document = True` "
      ]
    },
    {
      "cell_type": "code",
      "execution_count": null,
      "metadata": {
        "editable": true,
        "slideshow": {
          "slide_type": ""
        },
        "trusted": true
      },
      "outputs": [],
      "source": [
        "data = loader.load(return_whole_document = True)"
      ]
    },
    {
      "cell_type": "markdown",
      "metadata": {
        "editable": true,
        "slideshow": {
          "slide_type": ""
        }
      },
      "source": [
        "If you want to load already chunked files you can do it via `process_id` passing it to the reader."
      ]
    },
    {
      "cell_type": "code",
      "execution_count": null,
      "metadata": {
        "editable": true,
        "slideshow": {
          "slide_type": ""
        },
        "trusted": true
      },
      "outputs": [],
      "source": [
        "loader = PreprocessLeader(process_id=\"PROCESS_ID\", api_key=\"PREPROCESS_API_KEY\")"
      ]
    },
    {
      "cell_type": "markdown",
      "metadata": {
        "editable": true,
        "slideshow": {
          "slide_type": ""
        }
      },
      "source": [
        "## Other info\n",
        "\n",
        "`PreprocessReader` is based on `pypreprocess` from [Preprocess](https://github.com/preprocess-co/pypreprocess) library.\n",
        "For more information or other integration needs please check the [documentation](https://github.com/preprocess-co/pypreprocess)."
      ]
    }
  ],
  "metadata": {
    "kernelspec": {
      "display_name": "Python (Pyodide)",
      "language": "python",
      "name": "python"
    },
    "language_info": {
      "codemirror_mode": {
        "name": "python",
        "version": 3
      },
      "file_extension": ".py",
      "mimetype": "text/x-python",
      "name": "python",
      "nbconvert_exporter": "python",
      "pygments_lexer": "ipython3",
      "version": "3.8"
    }
  },
  "nbformat": 4,
  "nbformat_minor": 4
}
